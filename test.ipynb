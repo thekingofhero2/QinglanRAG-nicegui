{
 "cells": [
  {
   "cell_type": "code",
   "execution_count": 1,
   "metadata": {},
   "outputs": [
    {
     "name": "stderr",
     "output_type": "stream",
     "text": [
      "Building prefix dict from the default dictionary ...\n",
      "Loading model from cache C:\\Users\\lenovo\\AppData\\Local\\Temp\\jieba.cache\n"
     ]
    },
    {
     "name": "stdout",
     "output_type": "stream",
     "text": [
      "{'path': 'q_D:\\\\workspace\\\\QinglanRAG-nicegui\\\\FILES\\\\新建文本文档.txt', 'title': 'q', 'content': \"打开文件夹 D:\\\\mysql-5.7.44-winx64 手动创建 my.ini 文件，注意是my.ini不是my.ini.txt\\n填入以下内容\\n[mysql]\\n# 设置mysql客户端默认字符集\\ndefault-character-set=utf8mb4 \\n[mysqld]\\n#设置3306端口\\nport = 3306\\n#缓存\\ninnodb_buffer_pool_size = 4G \\n# 设置mysql的安装目录\\nbasedir=D:\\\\mysql-5.7.44-winx64    \\n# 设置mysql数据库的数据的存放目录\\ndatadir=D:\\\\mysql-5.7.44-winx64\\\\data\\n# 允许最大连接数\\nmax_connections=200\\n# 创建新表时将使用的默认存储引擎\\ndefault-storage-engine=INNODB\\ncharacter-set-server=utf8mb4\\ncollation-server=utf8mb4_bin\\n#表名不区分大小写\\n#lower_case_table_names=1\\n# binlog 配置  \\nlog-bin = D:\\\\mysql-5.7.44-winx64\\\\logbin\\\\mysql-bin.log\\n#日志7天过期\\nexpire-logs-days = 7\\nmax-binlog-size = 500M\\n#明确指定binlog类型\\nbinlog_format=ROW\\n#配置serverid ，默认使用ip地址最后一项\\nserver-id = 2\\n#innodb日志文件大小\\ninnodb_log_file_size = 512M\\n#最大数据包大小，支持大数据量插入更新及查询，最大值为1G,此处设置为512M\\nmax_allowed_packet=512M\\n# 数据表默认时区\\ndefault-time-zone='+08:00' \\n\\n\\n\\n63e70b50-36c054361-9578-69936c1e9a57\\n\\n52a1b519-e0973dc83-462f-2bb3c2c98f2e\\n\\n帆软报表文档使用\\nhttps://help.fanruan.com/finereport/\", 'abstracts': 'qbb'}\n",
      "--------------------\n"
     ]
    },
    {
     "name": "stderr",
     "output_type": "stream",
     "text": [
      "Loading model cost 0.647 seconds.\n",
      "Prefix dict has been built successfully.\n"
     ]
    },
    {
     "name": "stdout",
     "output_type": "stream",
     "text": [
      "[Or([Term('title', 'mysql'), Term('abstracts', 'mysql')]), Or([Term('title', '这样'), Term('abstracts', '这样')])]\n",
      "--------------------\n"
     ]
    }
   ],
   "source": [
    "from whoosh.index import create_in,open_dir\n",
    "\n",
    "from whoosh.qparser import QueryParser,MultifieldParser\n",
    "from whoosh.query import compound\n",
    "ix = open_dir(\"FILE_INDEX\",indexname=\"test_idx\")\n",
    "with ix.searcher() as searcher:\n",
    "    for doc in searcher.documents():\n",
    "        print(doc)\n",
    "    # # 构造查询，查询所有文档\n",
    "    # query = QueryParser(\"abstracts\", ix.schema).parse(\"mysql\")\n",
    "    # results = searcher.search(query)\n",
    "    # print(len(results))\n",
    "    # # 输出结果\n",
    "    # for result in results:\n",
    "    #     print(result)\n",
    "\n",
    "print(\"--------------------\")\n",
    "query = []\n",
    "keywords = ['mysql','这样']\n",
    "for keyword in keywords:\n",
    "    \n",
    "    query.append(MultifieldParser(fieldnames=['title','abstracts'],schema=ix.schema).parse(keyword))\n",
    "print(query)\n",
    "print(\"--------------------\")\n",
    "with ix.searcher() as searcher:\n",
    "    results = searcher.search(compound.Or(query))\n",
    "    for result in results:\n",
    "        print(result.get('content'))"
   ]
  },
  {
   "cell_type": "code",
   "execution_count": 11,
   "metadata": {},
   "outputs": [],
   "source": [
    "ixx = open_dir(\"FILE_INDEX\",indexname=\"test_idx\")\n",
    "\n",
    "with ixx.writer() as writer:\n",
    "    writer.update_document(abstracts =\"6667\", path='a_D:\\\\workspace\\\\QinglanRAG-nicegui\\\\FILES\\\\新建文本文档.txt')\n",
    "    #writer.commit(merge=True)"
   ]
  },
  {
   "cell_type": "code",
   "execution_count": 3,
   "metadata": {},
   "outputs": [
    {
     "name": "stdout",
     "output_type": "stream",
     "text": [
      "[pair('帮', 'v'), pair('我', 'r'), pair('查', 'v'), pair('一下', 'm'), pair('mysql', 'eng'), pair('的', 'uj'), pair('配置', 'v')] <class 'jieba.posseg.pair'>\n",
      "['mysql']\n",
      "0.42.1\n"
     ]
    }
   ],
   "source": [
    "import jieba\n",
    "import jieba.posseg as jp\n",
    "l = jp.lcut('帮我查一下mysql的配置')\n",
    "print(l,type(l[0]))\n",
    "print([i.word for i in filter(lambda x:x.flag=='eng' or x.flag.startswith('n') ,l)])\n",
    "print(jieba.__version__)\n"
   ]
  }
 ],
 "metadata": {
  "kernelspec": {
   "display_name": "venv",
   "language": "python",
   "name": "python3"
  },
  "language_info": {
   "codemirror_mode": {
    "name": "ipython",
    "version": 3
   },
   "file_extension": ".py",
   "mimetype": "text/x-python",
   "name": "python",
   "nbconvert_exporter": "python",
   "pygments_lexer": "ipython3",
   "version": "3.10.11"
  }
 },
 "nbformat": 4,
 "nbformat_minor": 2
}
